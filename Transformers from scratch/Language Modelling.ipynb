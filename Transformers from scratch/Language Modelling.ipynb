{
  "cells": [
    {
      "cell_type": "markdown",
      "metadata": {
        "id": "pNYfcBfM56Md"
      },
      "source": [
        "## **Transformers for Language Modeling**\n",
        "\n",
        "<center>\n",
        "    <img src=\"./assets/transformers.png\">\n",
        "</center>\n",
        "\n",
        "### Introduction\n",
        "\n",
        "In this notebook, you will be implementing a Transformer, `MiniGPT`, from scratch. This will be taken from the paper [Attention Is All You Need](https://arxiv.org/abs/1706.03762) by Vaswani et al. (2017). You will then train this Transformer on a language modeling task on a dataset of your choosing.\n",
        "\n",
        "After this notebook, you should be able to:\n",
        "\n",
        "- Understand how Transformers, and all its components, are implemented in code.\n",
        "\n",
        "- Train a Transformer on a language modeling task.\n",
        "\n",
        "- Brag on Twitter about how you created a Transformer from scratch.\n",
        "\n",
        "### Instructions\n",
        "\n",
        "- Follow along with the notebook, filling out the necessary code where instructed.\n",
        "\n",
        "- <span style=\"color: red;\">Read the Submission Instructions and Plagiarism Policy in the attached PDF.</span>\n",
        "\n",
        "- <span style=\"color: red;\">Make sure to run all cells for credit.</span>\n",
        "\n",
        "- <span style=\"color: red;\">Do not remove any pre-written code.</span> We will be using the `print` statements to grade your assignment.\n",
        "\n",
        "- <span style=\"color: red;\">You must attempt all parts.</span> Do not assume that because something is for 0 marks, you can leave it - it will definitely be used in later parts."
      ]
    },
    {
      "cell_type": "code",
      "execution_count": null,
      "metadata": {
        "colab": {
          "base_uri": "https://localhost:8080/"
        },
        "id": "5Hi6JH9upeSR",
        "outputId": "2b09fd9b-fb64-4da2-816d-f236b60804fa"
      },
      "outputs": [
        {
          "name": "stdout",
          "output_type": "stream",
          "text": [
            "Collecting tiktoken\n",
            "  Downloading tiktoken-0.5.2-cp310-cp310-manylinux_2_17_x86_64.manylinux2014_x86_64.whl (2.0 MB)\n",
            "\u001b[2K     \u001b[90m━━━━━━━━━━━━━━━━━━━━━━━━━━━━━━━━━━━━━━━━\u001b[0m \u001b[32m2.0/2.0 MB\u001b[0m \u001b[31m11.7 MB/s\u001b[0m eta \u001b[36m0:00:00\u001b[0m\n",
            "\u001b[?25hRequirement already satisfied: regex>=2022.1.18 in /usr/local/lib/python3.10/dist-packages (from tiktoken) (2023.6.3)\n",
            "Requirement already satisfied: requests>=2.26.0 in /usr/local/lib/python3.10/dist-packages (from tiktoken) (2.31.0)\n",
            "Requirement already satisfied: charset-normalizer<4,>=2 in /usr/local/lib/python3.10/dist-packages (from requests>=2.26.0->tiktoken) (3.3.2)\n",
            "Requirement already satisfied: idna<4,>=2.5 in /usr/local/lib/python3.10/dist-packages (from requests>=2.26.0->tiktoken) (3.6)\n",
            "Requirement already satisfied: urllib3<3,>=1.21.1 in /usr/local/lib/python3.10/dist-packages (from requests>=2.26.0->tiktoken) (2.0.7)\n",
            "Requirement already satisfied: certifi>=2017.4.17 in /usr/local/lib/python3.10/dist-packages (from requests>=2.26.0->tiktoken) (2023.11.17)\n",
            "Installing collected packages: tiktoken\n",
            "\u001b[31mERROR: pip's dependency resolver does not currently take into account all the packages that are installed. This behaviour is the source of the following dependency conflicts.\n",
            "llmx 0.0.15a0 requires cohere, which is not installed.\n",
            "llmx 0.0.15a0 requires openai, which is not installed.\u001b[0m\u001b[31m\n",
            "\u001b[0mSuccessfully installed tiktoken-0.5.2\n"
          ]
        }
      ],
      "source": [
        "!pip install tiktoken"
      ]
    },
    {
      "cell_type": "code",
      "execution_count": null,
      "metadata": {
        "colab": {
          "base_uri": "https://localhost:8080/"
        },
        "id": "dP9LDaV156Mi",
        "outputId": "ba07feeb-093d-40f5-ccdc-c7b2c647d4ac"
      },
      "outputs": [
        {
          "name": "stdout",
          "output_type": "stream",
          "text": [
            "Mounted at /content/drive\n"
          ]
        }
      ],
      "source": [
        "import numpy as np\n",
        "import pandas as pd\n",
        "import matplotlib.pyplot as plt\n",
        "\n",
        "import torch\n",
        "import torch.nn as nn\n",
        "import torch.nn.functional as F\n",
        "\n",
        "import tiktoken\n",
        "from google.colab import drive\n",
        "\n",
        "import torch.optim as optim\n",
        "import re\n",
        "import nltk\n",
        "from nltk.corpus import stopwords\n",
        "drive.mount('/content/drive')"
      ]
    },
    {
      "cell_type": "code",
      "execution_count": null,
      "metadata": {
        "colab": {
          "base_uri": "https://localhost:8080/"
        },
        "id": "2y6Ni5SFV6EO",
        "outputId": "04031b75-131d-441a-f820-0797873cf0cb"
      },
      "outputs": [
        {
          "name": "stderr",
          "output_type": "stream",
          "text": [
            "[nltk_data] Downloading package stopwords to /root/nltk_data...\n",
            "[nltk_data]   Unzipping corpora/stopwords.zip.\n"
          ]
        },
        {
          "data": {
            "text/plain": [
              "True"
            ]
          },
          "execution_count": 3,
          "metadata": {},
          "output_type": "execute_result"
        }
      ],
      "source": [
        "nltk.download('stopwords')"
      ]
    },
    {
      "cell_type": "markdown",
      "metadata": {
        "id": "X9i8WTpa56Mk"
      },
      "source": [
        "## Creating a Dataset\n",
        "\n",
        "In this section, you will be creating a dataset for training your Transformer. You are allowed to use any dataset you want, as long as it is a text dataset.\n",
        "\n",
        "Some fun options include:\n",
        "\n",
        "- A collection of movie scripts from your favorite director. Look through [IMSDB](https://www.imsdb.com/) for some options.\n",
        "\n",
        "- A novel from your favorite author. Look through [Project Gutenberg](https://www.gutenberg.org/) for some options.\n",
        "\n",
        "- A collection of poems from your favorite poet. Look through [Poetry Foundation](https://www.poetryfoundation.org/) for some options.\n",
        "\n",
        "- Anything else from [Kaggle](https://www.kaggle.com/datasets) or [HuggingFace](https://huggingface.co/datasets).\n",
        "\n",
        "You are not allowed to be boring and use the same dataset as something previously seen in the course.\n",
        "\n",
        "This section involves doing the following:\n",
        "\n",
        "1. **Finding/Downloading/Creating your dataset**. Add in a few comments about what it is and why you chose it. (10 Marks)\n",
        "\n",
        "2. **Preprocessing your dataset**. This involves tokenizing your dataset, and creating a vocabulary. Previously you used character-level tokenization, now you will use **subword-level tokenization** (you can read about different tokenization strategies [here](https://huggingface.co/learn/nlp-course/chapter2/4?fw=pt)). This can be very easily handled with the `tiktoken` library (read up [here](https://github.com/openai/tiktoken)), which is also what the GPT family uses :p (10 Marks)\n",
        "\n",
        "**Note:** Do not use character-level tokenization (what you used in the previous assignment)."
      ]
    },
    {
      "cell_type": "code",
      "execution_count": null,
      "metadata": {
        "id": "fK820xxyVQgF"
      },
      "outputs": [],
      "source": [
        "#preprocessing text dunction\n",
        "# This dataset consists of novels: Harry Potter Series, LOTR Series and Game of Thrones. I chose this dataset because these novels are one of the best reads of my collection so\n",
        "# far, especially LOTR.\n",
        "\n",
        "def remove_special_char(txt):\n",
        "  return re.sub(r'�', '', txt)\n",
        "\n",
        "def remove_numbers(txt):\n",
        "\n",
        "    return re.sub(r'\\d+', '', txt)\n",
        "\n",
        "def remove_url(txt):\n",
        "\n",
        "    return re.sub(r'http[s]?://(?:[a-zA-Z]|[0-9]|[$-_@.&+]|[!*\\\\(\\\\),]|(?:%[0-9a-fA-F][0-9a-fA-F]))+', '', txt)\n",
        "\n",
        "def normalize_sentence(txt):\n",
        "    '''\n",
        "    Aggregates all the above functions to normalize/clean a sentence\n",
        "    '''\n",
        "\n",
        "    return remove_url(remove_special_char(remove_numbers(txt)))"
      ]
    },
    {
      "cell_type": "code",
      "execution_count": null,
      "metadata": {
        "colab": {
          "base_uri": "https://localhost:8080/"
        },
        "id": "Se1HtVql56Mk",
        "outputId": "d42e79dc-1dd4-46b7-bbfe-8725a0a4d897"
      },
      "outputs": [
        {
          "data": {
            "text/plain": [
              "(torch.Size([32, 8]), torch.Size([32, 8]))"
            ]
          },
          "execution_count": 5,
          "metadata": {},
          "output_type": "execute_result"
        }
      ],
      "source": [
        "BATCH_SIZE = 32\n",
        "BLOCK_SIZE = 8\n",
        "\n",
        "# Create tiktoken object\n",
        "encoder = tiktoken.get_encoding(\"gpt2\")\n",
        "\n",
        "# TODO: Read in your dataset\n",
        "path = \"/content/drive/MyDrive/novels.txt\"\n",
        "with open(path, 'r', encoding='utf-8') as file:\n",
        "    lines = file.readlines()\n",
        "\n",
        "script = ''.join(lines)\n",
        "\n",
        "#preprocessing script\n",
        "script = normalize_sentence(script)\n",
        "\n",
        "# TODO: Create the encoded ids using the encoder\n",
        "ids = encoder.encode(script)\n",
        "\n",
        "\n",
        "# TODO: Complete the get_batch function\n",
        "def get_batch():\n",
        "    '''\n",
        "    Returns a batch (x, y) from the dataset\n",
        "    '''\n",
        "    # TODO: Get random integers for indexing into the dataset to create a batch\n",
        "    indices = np.random.randint(0, len(ids)-BLOCK_SIZE - 1, BATCH_SIZE)\n",
        "    # TODO: Get the x and y (input and target) batches after encoding and indexing\n",
        "    x = [ids[i:i + BLOCK_SIZE]for i in indices]\n",
        "    y = [ids[i+1:i+BLOCK_SIZE+1]for i in indices]\n",
        "    # TODO: Make sure these are int64 (long) tensors\n",
        "    x = torch.tensor(x, dtype=torch.long)\n",
        "    y = torch.tensor(y, dtype=torch.long)\n",
        "    return x, y\n",
        "\n",
        "xb, yb = get_batch()\n",
        "xb.shape, yb.shape"
      ]
    },
    {
      "cell_type": "markdown",
      "metadata": {
        "id": "fi9AaqmR56Mk"
      },
      "source": [
        "## Creating the Transformer\n",
        "\n",
        "### Defining our Hyperparameters\n",
        "\n",
        "We will define our hyperparameters here. You can play around with these later to see how they affect your model.\n",
        "\n",
        "Since there are lots of hyperparameters to keep track of, it is easier for us to wrap all of them inside a `dataclass`. This can be passed around very easily to different functions, and makes it easier to keep track of all relevant values.\n",
        "\n",
        "To quickly describe some of the hyperparameters:\n",
        "\n",
        "1. `block_size`: This is the length of the sequence that we will be feeding into our model. This has also been called the *context length* and *window size* in other places.\n",
        "\n",
        "2. `emb_dim`: This is the dimensionality of the embeddings we will have inside the model. This has implications on the outputs of tensors throughout the entire model.\n",
        "\n",
        "3. `head_size`: When dealing with Multi-Head Attention, we will be *splitting* our embeddings into multiple heads. This is the size of each of those heads. For example, if we had an embedding of size 512, and we wanted 8 heads, then each head would have a size of 64. Down the line, we'd be concatenating these heads together, so the final output would be of size 512 again, as you should recall from the lectures.\n",
        "\n",
        "4. `num_heads`: This is the number of attention heads we will have in our Multi-Head Attention layer.\n",
        "\n",
        "5. `num_layers`: This is the number of layers we will have in our Transformer (this includes the MHSA, the Feedforward module, and the Layer Normalizations).\n",
        "\n",
        "6. `vocab_size`: This is the size of our vocabulary. This is the number of unique tokens we have in our vocabulary. If you were to use character-level tokenization, this would be the number of unique characters in your dataset. Since you should be using subword-level tokenization, this will be the number of unique subwords in your dataset."
      ]
    },
    {
      "cell_type": "code",
      "execution_count": null,
      "metadata": {
        "id": "iukQ7fgg56Ml"
      },
      "outputs": [],
      "source": [
        "from dataclasses import dataclass\n",
        "\n",
        "@dataclass\n",
        "class Config:\n",
        "    block_size: int = BLOCK_SIZE\n",
        "    emb_dim: int = 256\n",
        "    head_size: int = 32\n",
        "    num_heads: int = 8\n",
        "    num_layers: int = 2\n",
        "    vocab_size: int = encoder.n_vocab # vocab size of the tokenizer\n",
        "\n",
        "# We like to have emb_dim == head_size * num_heads\n",
        "config = Config()\n",
        "assert config.emb_dim == config.head_size * config.num_heads, \"Embedding dimension must be divisible by number of heads\""
      ]
    },
    {
      "cell_type": "markdown",
      "metadata": {
        "id": "CjoRC80F56Ml"
      },
      "source": [
        "### Multi-Head Self-Attention\n",
        "\n",
        "This component is the core of the Transformer. This is where the model learns to attend to different parts of the input sequence, and is the reason why Transformers are so powerful.\n",
        "\n",
        "$$\\text{Attention}(Q, K, V) = \\text{softmax}(\\frac{QK^T}{\\sqrt{d_k}})V$$\n",
        "\n",
        "$$\\text{head}_k = \\text{Attention}(QW^Q_k, KW^K_k, VW^V_k)$$\n",
        "\n",
        "$$\\text{MHSA}(Q, K, V) = \\text{Concat}(\\text{head}_1, ..., \\text{head}_h)W^O$$\n",
        "\n",
        "For simplicity, assume we have a single Head:\n",
        "\n",
        "1. The input has three parts extracted from it: the query $Q$, the key $K$, and the value $V$ (via projections or `Linear` layers).\n",
        "\n",
        "2. The query and key are multiplied together to get a score. This score is then scaled by the square root of the embedding dimension, $\\sqrt{d_k}$, then passed through a softmax to get the attention weights (*after* a masking operation is applied).\n",
        "\n",
        "3. The attention weights are then multiplied with the value to get the final output.\n",
        "\n",
        "When we extend this to *multiple heads*, we simply repeat this process for each head in parallel, and then concatenate the outputs of each head together.\n",
        "\n",
        "Create a class for this `MHSA` module (Multi-Head Self-Attention), adding a comment next to each line in the `forward` method for the shape of the tensor at that point. This will help you debug later on."
      ]
    },
    {
      "cell_type": "code",
      "execution_count": null,
      "metadata": {
        "colab": {
          "base_uri": "https://localhost:8080/"
        },
        "id": "P5ASstvm56Mm",
        "outputId": "94630ca7-1a29-400d-fc62-9182124660de"
      },
      "outputs": [
        {
          "name": "stdout",
          "output_type": "stream",
          "text": [
            "torch.Size([32, 8, 256])\n",
            "torch.Size([32, 8, 256])\n"
          ]
        }
      ],
      "source": [
        "class MHSA(nn.Module):\n",
        "    def __init__(self, cfg):\n",
        "        super().__init__()\n",
        "        self.emb_dim = cfg.emb_dim\n",
        "        self.head_size = cfg.head_size\n",
        "        self.block_size = cfg.block_size\n",
        "        self.num_heads = cfg.num_heads\n",
        "\n",
        "        # TODO: Define the single projection layer for QKV\n",
        "        self.layer_qkv = nn.Linear(self.emb_dim, 3* self.emb_dim)\n",
        "        # TODO: Define the output projection layer\n",
        "        self.output = nn.Linear(self.emb_dim, self.emb_dim)\n",
        "        # Create a buffer for the mask (buffers are tensors that are not updated during backpropagation)\n",
        "        self.register_buffer(\"mask\", torch.tril(torch.ones(self.block_size, self.block_size)))\n",
        "\n",
        "    def forward(self, x):\n",
        "\n",
        "        B, T, C = x.shape # batch size, block size, emb dim\n",
        "        H = self.num_heads\n",
        "\n",
        "        # TODO: Carry out the projections to get the query, key and value - you may want to reshape them to (B, H, T, head_size) to make things easier\n",
        "        projection = self.layer_qkv(x).view(B, T,H,3*self.head_size)\n",
        "        projection = projection.view(B,T,3,H,self.head_size).permute(0,3,1,2,4)\n",
        "        query, key, value = projection.split([1,1,1], dim=-2)\n",
        "        # for easier processing we cut the dimensions into chunks for faster MHSA implementation (as fast as single head attention)\n",
        "        query = query.view(B,H,T,-1)\n",
        "        key = key.view(B,H,T,-1)\n",
        "        value = value.view(B,H,T,-1)\n",
        "        # TODO: Compute the attention scores, perform masking, and apply the softmax\n",
        "        scores = torch.matmul(query, key.transpose(-2,-1))/(self.head_size**0.5)\n",
        "        scores = scores.masked_fill(self.mask[:T, :T]==0, float('-inf'))\n",
        "        probs = torch.nn.functional.softmax(scores, dim=-1)\n",
        "        # TODO: Compute the weighted sum of the value vectors - you can perform the concatenation via a simple reshaping before applying the final projection\n",
        "        weighted_sum = probs @ value\n",
        "        out = weighted_sum.permute(0,2,1,3).contiguous().view(B,T,-1)\n",
        "        out = self.output(out)\n",
        "        return out\n",
        "\n",
        "# !DO NOT REMOVE THESE LINES!\n",
        "x = torch.randn(32, config.block_size, config.emb_dim)\n",
        "print(x.shape)\n",
        "csa = MHSA(config)\n",
        "out = csa(x)\n",
        "print(out.shape)"
      ]
    },
    {
      "cell_type": "markdown",
      "metadata": {
        "id": "vTi7tZ9t56Mm"
      },
      "source": [
        "### Feedforward Network\n",
        "\n",
        "The Feedforward Network module usually consists of two linear layers, with a ReLU activation in between. The first linear layer projects the input's Embeddings to a higher dimensionality (by a factor of 4 specifically), and the second linear layer projects it back down to the original dimensionality. This is a very simple module, but is very effective in learning complex functions.\n",
        "\n",
        "Create a class for this `Feedforward` module, with the following tweaks:\n",
        "\n",
        "1. Use the [GELU Activation Function](https://pytorch.org/docs/stable/generated/torch.nn.GELU.html) instead of ReLU between the layers. It is functionally very similar, but has gained a lot of popularity recently.\n",
        "\n",
        "2. Instead of using two `Linear` layers, and an upsampling factor of `4`, use **three** `Linear` layers: the first one upsamples by a factor of `2`, the second one does not change the dimensionality, and the third one downsamples by a factor of `2`. This creates a slightly deeper network, and can be shown to have the same number of parameters as the network in the original Transformer.\n",
        "\n",
        "3. Add a [Dropout layer](https://pytorch.org/docs/stable/generated/torch.nn.Dropout.html) after the last `Linear` layer, with $p=0.1$. This helps mitigate overfitting."
      ]
    },
    {
      "cell_type": "code",
      "execution_count": null,
      "metadata": {
        "id": "975v60u356Mm"
      },
      "outputs": [],
      "source": [
        "class Feedforward(nn.Module):\n",
        "    def __init__(self, config):\n",
        "        super().__init__()\n",
        "        emb_dim = config.emb_dim\n",
        "\n",
        "        # TODO: Define the feedforward network\n",
        "        self.feedforward = nn.Sequential(\n",
        "            nn.Linear(emb_dim, emb_dim *2),\n",
        "            nn.GELU(),\n",
        "            nn.Linear(emb_dim*2, emb_dim*2),\n",
        "            nn.GELU(),\n",
        "            nn.Linear(emb_dim*2, emb_dim),\n",
        "            nn.Dropout(p=0.1)\n",
        "        )\n",
        "\n",
        "    def forward(self, x):\n",
        "        # TODO: Apply the feedforward network\n",
        "        x = self.feedforward(x)\n",
        "        return x"
      ]
    },
    {
      "cell_type": "markdown",
      "metadata": {
        "id": "AdgpIoFY56Mn"
      },
      "source": [
        "### Blocks with Skip Connections\n",
        "\n",
        "The Encoder consists of multiple *Blocks*, that each contain a Multi-Head Self-Attention module, a Feedforward module, and a Layer Normalization module. We use Skip Connections to help with the flow of gradients during the training process.\n",
        "\n",
        "Create a class for this `Block` module, with the following tweaks:\n",
        "\n",
        "- Instead of creating your own Layer Normalization module, use [the one provided by PyTorch](https://pytorch.org/docs/stable/generated/torch.nn.LayerNorm.html), `nn.LayerNorm`.\n",
        "\n",
        "- Perform the Layer Normalizations **before** the Skip Connections, instead of after. The original paper used the \"post-LN\" approach, but [recent research](https://arxiv.org/abs/2002.04745) has shown that the \"pre-LN\" approach is better."
      ]
    },
    {
      "cell_type": "code",
      "execution_count": null,
      "metadata": {
        "colab": {
          "base_uri": "https://localhost:8080/"
        },
        "id": "1dEASIIB56Mn",
        "outputId": "d8b271d5-f361-4578-922d-99ae1a675f64"
      },
      "outputs": [
        {
          "name": "stdout",
          "output_type": "stream",
          "text": [
            "torch.Size([8, 8, 256])\n",
            "torch.Size([8, 8, 256])\n"
          ]
        }
      ],
      "source": [
        "class Block(nn.Module):\n",
        "    def __init__(self, config):\n",
        "        super().__init__()\n",
        "\n",
        "        # TODO: Define the MHSA, Feedforward, and two LayerNorm modules\n",
        "        self.mhsa = MHSA(config)\n",
        "        self.feedforward = Feedforward(config)\n",
        "        self.norm1 = nn.LayerNorm(config.emb_dim)\n",
        "        self.norm2 = nn.LayerNorm(config.emb_dim)\n",
        "    def forward(self, x):\n",
        "\n",
        "        # TODO: Apply the modules with residual connections (use the Pre-LN design)\n",
        "        x = self.mhsa(self.norm1(x))\n",
        "        x = self.feedforward(self.norm2(x))\n",
        "        return x\n",
        "\n",
        "# !DO NOT REMOVE THESE LINES!\n",
        "x = torch.randn(8, config.block_size, config.emb_dim)\n",
        "print(x.shape)\n",
        "block = Block(config)\n",
        "out = block(x)\n",
        "print(out.shape)"
      ]
    },
    {
      "cell_type": "markdown",
      "metadata": {
        "id": "feFonK4e56Mn"
      },
      "source": [
        "### Putting it all together\n",
        "\n",
        "Now that we have all the components, we can put them together to create the Transformer. The Transformer consists of\n",
        "\n",
        "1. Creating Embeddings for the input sequence. This implies turning the input sequence into a sequence of indices, and then passing it through an `nn.Embedding` layer. Alongside this, we will be using another Embedding table for the positional encodings. For simplicity, we can keep the embedding dimensionality for both of these the same.\n",
        "\n",
        "2. Passing the embeddings through a series of Blocks.\n",
        "\n",
        "3. Passing the output of the Encoder through a Layer Normalization layer, and then a Linear layer to get the final logits.\n",
        "\n",
        "Create a class for this `SastaGPT` module. This will be the final model that we will be training. Note that the `generate()` function has been provided for you."
      ]
    },
    {
      "cell_type": "code",
      "execution_count": null,
      "metadata": {
        "colab": {
          "base_uri": "https://localhost:8080/"
        },
        "id": "Pccio5y156Mn",
        "outputId": "e749213b-d376-4abd-8d8f-503fafbddc61"
      },
      "outputs": [
        {
          "name": "stdout",
          "output_type": "stream",
          "text": [
            "Number of parameters: 27.364M\n"
          ]
        }
      ],
      "source": [
        "class MiniGPT(nn.Module):\n",
        "    def __init__(self, config):\n",
        "        super().__init__()\n",
        "        self.emb_dim = config.emb_dim\n",
        "        self.block_size = config.block_size\n",
        "        self.num_layers = config.num_layers\n",
        "        self.vocab_size = config.vocab_size\n",
        "\n",
        "        # TODO: Define the word and position embeddings\n",
        "        # Hint: They will both have the same embedding dimension, only difference is the number of embeddings (vocab_size vs. block_size)\n",
        "        self.word = nn.Embedding(config.vocab_size, config.emb_dim)\n",
        "        self.position = nn.Embedding(config.block_size, config.emb_dim)\n",
        "        # TODO: Define the sequence of Blocks\n",
        "        self.blocks = nn.ModuleList([Block(config) for _ in range (config.num_layers)])\n",
        "        # TODO: Define the final LayerNorm\n",
        "        self.final = nn.LayerNorm(config.emb_dim)\n",
        "        # TODO: Define the final linear layer (to get logits)\n",
        "        self.final_logits = nn.Linear(config.emb_dim, config.vocab_size)\n",
        "        # Initialize the weights\n",
        "        self.apply(self._init_weights)\n",
        "\n",
        "    def _init_weights(self, module):\n",
        "        if isinstance(module, nn.Linear):\n",
        "            torch.nn.init.normal_(module.weight, mean=0.0, std=0.02)\n",
        "            if module.bias is not None:\n",
        "                torch.nn.init.zeros_(module.bias)\n",
        "\n",
        "        elif isinstance(module, nn.Embedding):\n",
        "            torch.nn.init.normal_(module.weight, mean=0.0, std=0.02)\n",
        "\n",
        "    def forward(self, idxs):\n",
        "        # idxs: (B, T)\n",
        "        batch_size, seq_len = idxs.shape\n",
        "\n",
        "        assert seq_len <= self.block_size, f\"Sequence length exceeds block size of {self.block_size}\"\n",
        "\n",
        "        # TODO: Get the word embeddings (B, T, C) and position embeddings (T, C)\n",
        "        # Hint: For the position embeddings, you can use torch.arange(seq_len) to mimic the indices\n",
        "        # Note: position embeddings are encodings of the position indices (NOT the actual tokens)\n",
        "        word_emb = self.word(idxs)\n",
        "        position_ind = torch.arange(seq_len, device=idxs.device).unsqueeze(0)\n",
        "        position_emb = self.position(position_ind)\n",
        "        # TODO: Add the word and position embeddings (broadcasting will take care of the shapes)\n",
        "        embed = word_emb + position_emb\n",
        "        # TODO: Pass the embeddings through the blocks (B, T, C)\n",
        "        for block in self.blocks:\n",
        "          embed = block(embed)\n",
        "        # TODO: Apply the final LayerNorm\n",
        "        embed = self.final(embed)\n",
        "        # TODO: Apply the final linear layer to get the logits (B, T, V)\n",
        "        logits = self.final_logits(embed)\n",
        "        return logits\n",
        "\n",
        "    @torch.no_grad()\n",
        "    def generate(self, idxs, max_new_tokens=20):\n",
        "        '''\n",
        "        Takes in a sequence of indices (the tokenized sentence) and generates new tokens\n",
        "        Note that the input indices should not be longer than the block size\n",
        "        Returns the input sequence with the generated tokens appended (these should be decoded using the Tokenizer)\n",
        "\n",
        "        Params\n",
        "        ------\n",
        "        idxs: torch.Tensor\n",
        "            (B, T) tensor of token indices\n",
        "        max_new_tokens: int\n",
        "            Maximum number of new tokens to generate\n",
        "        '''\n",
        "\n",
        "        # idxs: (B, T)\n",
        "        for _ in range(max_new_tokens):\n",
        "            idxs_trimmed = idxs[:, -self.block_size:] # trim to block size\n",
        "\n",
        "            logits = self(idxs_trimmed) # (B, T, V)\n",
        "\n",
        "            logits = logits[:, -1, :] # (B, V)\n",
        "\n",
        "            probs = F.softmax(logits, dim=-1) # (B, V)\n",
        "\n",
        "            next_idx = torch.multinomial(probs, num_samples=1) # (B, 1)\n",
        "\n",
        "            idxs = torch.cat((idxs, next_idx), dim=1) # (B, T+1)\n",
        "\n",
        "        return idxs\n",
        "\n",
        "cfg = Config()\n",
        "model = MiniGPT(cfg)\n",
        "print(f\"Number of parameters: {sum(p.numel() for p in model.parameters()) / 1e6 :.3f}M\")"
      ]
    },
    {
      "cell_type": "code",
      "execution_count": null,
      "metadata": {
        "colab": {
          "base_uri": "https://localhost:8080/"
        },
        "id": "uCEj8-Gi56Mo",
        "outputId": "03a115f5-eb72-4901-d682-4d539a04c2b2"
      },
      "outputs": [
        {
          "name": "stdout",
          "output_type": "stream",
          "text": [
            "torch.Size([32, 8])\n",
            "torch.Size([32, 8, 50257])\n"
          ]
        }
      ],
      "source": [
        "# !DO NOT REMOVE THESE LINES!\n",
        "\n",
        "# Check out the forward pass\n",
        "xb, yb = get_batch()\n",
        "print(xb.shape)\n",
        "\n",
        "logits = model(xb)\n",
        "print(logits.shape) # (B, T, V)"
      ]
    },
    {
      "cell_type": "markdown",
      "metadata": {
        "id": "VxaCD_AF56Mo"
      },
      "source": [
        "Now train this model on your own dataset!\n",
        "\n",
        "Note that since the model is quite large, it will take a while to train. This would be a good opportunity to use [Google Colab](https://colab.research.google.com/) or [Kaggle Notebooks](https://www.kaggle.com/notebooks) for free GPU compute. This requires very few changes to your original training code, only having to cast your model and data to the GPU.\n",
        "\n",
        "```python\n",
        "# Define the device\n",
        "device = torch.device(\"cuda\" if torch.cuda.is_available() else \"cpu\")\n",
        "\n",
        "# Get the batch\n",
        "xb, yb = get_batch()\n",
        "\n",
        "# Cast to the device\n",
        "xb = xb.to(device)\n",
        "yb = yb.to(device)\n",
        "\n",
        "# Cast the model to the device\n",
        "model = model.to(device)\n",
        "\n",
        "# Forward pass\n",
        "preds = model(xb)\n",
        "\n",
        "...\n",
        "\n",
        "```\n",
        "\n",
        "The only rule is that both your model and your tensors should be on the same device (CPU or GPU)."
      ]
    },
    {
      "cell_type": "code",
      "execution_count": null,
      "metadata": {
        "colab": {
          "base_uri": "https://localhost:8080/"
        },
        "id": "pFR3-RkO56Mo",
        "outputId": "bd3c8d83-503a-4cbf-e63b-81d7877a0d37"
      },
      "outputs": [
        {
          "name": "stdout",
          "output_type": "stream",
          "text": [
            "Epoch 1, Loss: 6.643047332763672\n",
            "Epoch 11, Loss: 6.80014181137085\n",
            "Epoch 21, Loss: 6.876214027404785\n",
            "Epoch 31, Loss: 6.594824314117432\n",
            "Epoch 41, Loss: 6.64005184173584\n",
            "Epoch 51, Loss: 6.542564868927002\n",
            "Epoch 61, Loss: 6.972264766693115\n",
            "Epoch 71, Loss: 6.897254943847656\n",
            "Epoch 81, Loss: 6.559534549713135\n",
            "Epoch 91, Loss: 6.568901062011719\n",
            "Epoch 101, Loss: 6.5400710105896\n",
            "Epoch 111, Loss: 6.485126972198486\n",
            "Epoch 121, Loss: 6.694623947143555\n",
            "Epoch 131, Loss: 5.801972389221191\n",
            "Epoch 141, Loss: 5.990728378295898\n",
            "Epoch 151, Loss: 5.318575859069824\n",
            "Epoch 161, Loss: 5.378993034362793\n",
            "Epoch 171, Loss: 4.990650177001953\n",
            "Epoch 181, Loss: 4.4938554763793945\n",
            "Epoch 191, Loss: 5.372264862060547\n",
            "Epoch 201, Loss: 4.832192420959473\n",
            "Epoch 211, Loss: 4.89767599105835\n",
            "Epoch 221, Loss: 5.119926929473877\n",
            "Epoch 231, Loss: 5.139658451080322\n",
            "Epoch 241, Loss: 4.614809036254883\n",
            "Epoch 251, Loss: 4.940868377685547\n",
            "Epoch 261, Loss: 4.842645645141602\n",
            "Epoch 271, Loss: 4.836676120758057\n",
            "Epoch 281, Loss: 5.004046440124512\n",
            "Epoch 291, Loss: 4.480286598205566\n",
            "Epoch 301, Loss: 4.904087066650391\n",
            "Epoch 311, Loss: 4.794794082641602\n",
            "Epoch 321, Loss: 4.852731227874756\n",
            "Epoch 331, Loss: 4.904428005218506\n",
            "Epoch 341, Loss: 4.5029616355896\n",
            "Epoch 351, Loss: 4.484714031219482\n",
            "Epoch 361, Loss: 4.2116827964782715\n",
            "Epoch 371, Loss: 4.343358993530273\n",
            "Epoch 381, Loss: 4.656022071838379\n",
            "Epoch 391, Loss: 4.669580459594727\n",
            "Epoch 401, Loss: 4.473293304443359\n",
            "Epoch 411, Loss: 4.8251800537109375\n",
            "Epoch 421, Loss: 4.666202545166016\n",
            "Epoch 431, Loss: 4.643974781036377\n",
            "Epoch 441, Loss: 4.227090835571289\n",
            "Epoch 451, Loss: 4.550782203674316\n",
            "Epoch 461, Loss: 4.930782318115234\n",
            "Epoch 471, Loss: 4.773582458496094\n",
            "Epoch 481, Loss: 3.98799204826355\n",
            "Epoch 491, Loss: 4.861438274383545\n"
          ]
        }
      ],
      "source": [
        "# TODO: Train the model\n",
        "\n",
        "# we use the general criteria to train the model using loss function, optimizer epoch loop\n",
        "device = torch.device(\"cuda\" if torch.cuda.is_available() else \"cpu\")\n",
        "loss = nn.CrossEntropyLoss()\n",
        "optimizer = optim.AdamW(model.parameters(), lr=0.001)\n",
        "\n",
        "\n",
        "epochs = 500\n",
        "for epoch in range(epochs):\n",
        "  for i in range(300):\n",
        "    model = model.to(device)\n",
        "    model.train()\n",
        "    xb, yb = get_batch()\n",
        "    xb = xb.to(device)\n",
        "    yb = yb.to(device)\n",
        "    logits = model(xb)\n",
        "    loss_ = loss(logits.view(-1, cfg.vocab_size), yb.view(-1))\n",
        "    optimizer.zero_grad()\n",
        "    loss_.backward()\n",
        "    optimizer.step()\n",
        "  if epoch%10==0:\n",
        "    print(f\"Epoch {epoch+1}, Loss: {loss_.item()}\")\n"
      ]
    },
    {
      "cell_type": "markdown",
      "metadata": {
        "id": "UmQXs5sq56Mo"
      },
      "source": [
        "With your trained model, generate some text. You can use the `generate()` function provided to you.\n",
        "\n",
        "Note that the quality of your generations depends on:\n",
        "\n",
        "- How large the training dataset was. If you used a small dataset, your model will not have enough samples to learn the syntax, semantics, the grammar and other intricacies of language, much less the specifics of the dataset.\n",
        "\n",
        "- How long you trained for. Provided your dataset was large enough, you could try training for longer epochs until the loss values stabilize.\n",
        "\n",
        "- How large your model was. If you used a small model, it will not have enough parameters to learn the complexities of language. You can try increasing the number of layers, the embedding dimensionality, the number of heads, etc.\n",
        "\n",
        "Most importantly, share your generations with the rest of the class! Take some screenshots of your best generations, and share them on the Slack channel."
      ]
    },
    {
      "cell_type": "code",
      "execution_count": null,
      "metadata": {
        "colab": {
          "base_uri": "https://localhost:8080/"
        },
        "id": "9Q4sOBJ256Mo",
        "outputId": "69caf353-8a59-4958-822f-2f1b29b3f0aa"
      },
      "outputs": [
        {
          "name": "stdout",
          "output_type": "stream",
          "text": [
            "And I was so far down with all ear, andest Elm seen, then a hundred my body nor Joffists had not seen the platform and connected fire from the spring of the hollowwood and poured over the darkness. \"If then Harry! said Harry, but Hermione brushed her shield into the lake.\n",
            "\n",
            "“Tell me to go no further here at him. Let him want got off and a boy to his heels consted sword, when he disappeared right.\n",
            "\n",
            "The ropes was still long a tapolt to hobbling at Harry's disbelief… “Is it at your ridden into me. And fight today I would not hear the postened hunters from the middle of the water moving in the water, because the north, though the same sight of flowers dwell step more green steel against his head. Once.\n",
            "\n",
            "Would they thought she is ill,' said Aragorn. 'We're leading your best share the Old Bear quicker Sansa had known that that storm myself again also shouted free, pounding it?'\n",
            "     But at birth do be hard to leave a real dreams can take somestanding?”\n",
            "\n",
            "“A handsome king die-elf right through foot, ripped back his bed with\n"
          ]
        }
      ],
      "source": [
        "# Check out the generate method\n",
        "sentence = \"And\"\n",
        "idxs = torch.tensor(encoder.encode(sentence)).unsqueeze(0)\n",
        "idxs = idxs.to(device)\n",
        "\n",
        "model.eval()\n",
        "generated = model.generate(idxs, max_new_tokens=250)\n",
        "generated_cpu = generated.to('cpu')\n",
        "res = encoder.decode(generated_cpu[0].numpy())\n",
        "print(res)"
      ]
    },
    {
      "cell_type": "markdown",
      "metadata": {
        "id": "o-3MRcwG56Mo"
      },
      "source": [
        "## Effects of Hyperparameters on the Number of Parameters\n",
        "\n",
        "In this section, you will be exploring the effects of the hyperparameters on the number of parameters in your model.\n",
        "\n",
        "With so much room for tweaking (with the embedding dimensionality, the size of the vocab, the number of heads, the number of layers, etc.), it is important to visualize how fast the total number of parameters can grow if you start toying with them."
      ]
    },
    {
      "cell_type": "code",
      "execution_count": null,
      "metadata": {
        "id": "KPk7Ho-p56Mp"
      },
      "outputs": [],
      "source": [
        "def get_params(model):\n",
        "    '''\n",
        "    Returns the number of parameters in the model (in millions)\n",
        "    '''\n",
        "    return sum(p.numel() for p in model.parameters()) / 1e6\n",
        "\n",
        "@dataclass\n",
        "class Config:\n",
        "    block_size: int = BLOCK_SIZE\n",
        "    emb_dim: int = 256\n",
        "    head_size: int = 32\n",
        "    num_heads: int = 8\n",
        "    num_layers: int = 2\n",
        "    vocab_size: int = 100 # smaller vocab size for quick prototyping"
      ]
    },
    {
      "cell_type": "code",
      "execution_count": null,
      "metadata": {
        "colab": {
          "base_uri": "https://localhost:8080/",
          "height": 472
        },
        "id": "2MmCmXr156Mp",
        "outputId": "2b2279a7-1616-4524-c79c-942dd787eb5f"
      },
      "outputs": [
        {
          "data": {
            "image/png": "[encoded data removed]",
            "text/plain": [
              "<Figure size 640x480 with 1 Axes>"
            ]
          },
          "metadata": {},
          "output_type": "display_data"
        }
      ],
      "source": [
        "# TODO: Plot the number of parameters vs. block size (in multiples of 8, capped at 512)\n",
        "block_Size = list(range(8, 513, 8))\n",
        "num_params_list = []\n",
        "\n",
        "for block_size in block_Size:\n",
        "    config = Config(block_size=block_size, emb_dim=config.emb_dim, head_size=config.head_size, num_heads=config.num_heads, num_layers=config.num_layers, vocab_size=config.vocab_size)\n",
        "\n",
        "    model = MiniGPT(config)\n",
        "\n",
        "    num_params = get_params(model)\n",
        "    num_params_list.append(num_params)\n",
        "\n",
        "# Plotting\n",
        "plt.plot(block_Size, num_params_list, marker='o')\n",
        "plt.title('Number of Parameters vs. Block Size')\n",
        "plt.xlabel('Block Size')\n",
        "plt.ylabel('Number of Parameters (Millions)')\n",
        "plt.grid(True)\n",
        "plt.show()\n"
      ]
    },
    {
      "cell_type": "code",
      "execution_count": null,
      "metadata": {
        "colab": {
          "base_uri": "https://localhost:8080/",
          "height": 472
        },
        "id": "aIHr6TnG56Mp",
        "outputId": "64f3e6e3-5593-4ab2-c89e-2eda7f1e2a3c"
      },
      "outputs": [
        {
          "data": {
            "image/png": "[encoded data removed]",
            "text/plain": [
              "<Figure size 640x480 with 1 Axes>"
            ]
          },
          "metadata": {},
          "output_type": "display_data"
        }
      ],
      "source": [
        "# TODO: Plot the number of parameters vs. embedding dimension (in multiples of 256, capped at 1792)\n",
        "emb_dims = [256 * i for i in range(1, 8)]  # multiples of 256, capped at 1792\n",
        "num_params = []\n",
        "\n",
        "for emb_dim in emb_dims:\n",
        "    config = Config(emb_dim=emb_dim)\n",
        "\n",
        "    # Create the model based on the current configuration\n",
        "    model = MiniGPT(config)\n",
        "\n",
        "    # Calculate the number of parameters and append to the list\n",
        "    num_params_ = get_params(model)\n",
        "    num_params.append(num_params_)\n",
        "\n",
        "# Plot the results\n",
        "plt.plot(emb_dims, num_params, marker='o')\n",
        "plt.title('Number of Parameters vs. Embedding Dimension')\n",
        "plt.xlabel('Embedding Dimension')\n",
        "plt.ylabel('Number of Parameters (Millions)')\n",
        "plt.show()"
      ]
    },
    {
      "cell_type": "code",
      "execution_count": null,
      "metadata": {
        "colab": {
          "base_uri": "https://localhost:8080/",
          "height": 472
        },
        "id": "i-JzhvBa56Mp",
        "outputId": "5c0e0243-b40a-4d86-c0aa-0db33c770984"
      },
      "outputs": [
        {
          "data": {
            "image/png": "[encoded data removed]",
            "text/plain": [
              "<Figure size 640x480 with 1 Axes>"
            ]
          },
          "metadata": {},
          "output_type": "display_data"
        }
      ],
      "source": [
        "# Explore the effect of the number of heads on the number of parameters\n",
        "num_heads_list = [4 * i for i in range(1, 9)]  # multiples of 4, capped at 32\n",
        "num_params_list_heads = []\n",
        "\n",
        "for num_heads in num_heads_list:\n",
        "    config = Config(num_heads=num_heads)\n",
        "\n",
        "    # Create the model based on the current configuration\n",
        "    model = MiniGPT(config)\n",
        "\n",
        "    # Calculate the number of parameters and append to the list\n",
        "    num_params_heads = get_params(model)\n",
        "    num_params_list_heads.append(num_params_heads)\n",
        "\n",
        "# Plot the results\n",
        "plt.plot(num_heads_list, num_params_list_heads, marker='o')\n",
        "plt.title('Number of Parameters vs. Number of Heads')\n",
        "plt.xlabel('Number of Heads')\n",
        "plt.ylabel('Number of Parameters (Millions)')\n",
        "plt.show()\n"
      ]
    },
    {
      "cell_type": "code",
      "execution_count": null,
      "metadata": {
        "colab": {
          "base_uri": "https://localhost:8080/",
          "height": 472
        },
        "id": "wxDDk-2o56Mp",
        "outputId": "ac280c4b-e400-43ce-c12e-28e1fd749eea"
      },
      "outputs": [
        {
          "data": {
            "image/png": "[encoded data removed]",
            "text/plain": [
              "<Figure size 640x480 with 1 Axes>"
            ]
          },
          "metadata": {},
          "output_type": "display_data"
        }
      ],
      "source": [
        "# TODO: Plot the number of parameters vs. number of layers\n",
        "\n",
        "num_layers_ = [i for i in range(1, 11)]\n",
        "num_params = []\n",
        "\n",
        "for num_layers in num_layers_:\n",
        "    config = Config(num_layers=num_layers)\n",
        "\n",
        "    # Create the model based on the current configuration\n",
        "    model = MiniGPT(config)\n",
        "\n",
        "    # Calculate the number of parameters and append to the list\n",
        "    num_params_ = get_params(model)\n",
        "    num_params.append(num_params_)\n",
        "\n",
        "# Plot the results\n",
        "plt.plot(num_layers_, num_params, marker='o')\n",
        "plt.title('Number of Parameters vs. Number of Layers')\n",
        "plt.xlabel('Number of Layers')\n",
        "plt.ylabel('Number of Parameters (Millions)')\n",
        "plt.show()\n"
      ]
    },
    {
      "cell_type": "code",
      "execution_count": null,
      "metadata": {
        "colab": {
          "base_uri": "https://localhost:8080/",
          "height": 472
        },
        "id": "E2C1p7wl56Mp",
        "outputId": "57ca0b99-7926-4374-888e-b06caa262c23"
      },
      "outputs": [
        {
          "data": {
            "image/png": "[encoded data removed]",
            "text/plain": [
              "<Figure size 640x480 with 1 Axes>"
            ]
          },
          "metadata": {},
          "output_type": "display_data"
        }
      ],
      "source": [
        "# TODO: Plot the number of parameters vs. vocabulary size\n",
        "vocab_size_ = [100, 500, 1000, 2000, 5000]  # example vocabulary size values\n",
        "num_params = []\n",
        "\n",
        "for vocab_size in vocab_size_:\n",
        "    config = Config(vocab_size=vocab_size)\n",
        "\n",
        "    # Create the model based on the current configuration\n",
        "    model = MiniGPT(config)\n",
        "\n",
        "    # Calculate the number of parameters and append to the list\n",
        "    num_params_ = get_params(model)\n",
        "    num_params.append(num_params_)\n",
        "\n",
        "# Plot the results\n",
        "plt.plot(vocab_size_, num_params, marker='o')\n",
        "plt.title('Number of Parameters vs. Vocabulary Size')\n",
        "plt.xlabel('Vocabulary Size')\n",
        "plt.ylabel('Number of Parameters (Millions)')\n",
        "plt.show()\n",
        "\n"
      ]
    },
    {
      "cell_type": "markdown",
      "metadata": {
        "id": "qmI6kiB956Mp"
      },
      "source": [
        "After looking at these plots, can you answer which hyperparameters have the most effect on the number of parameters? Which ones have the least effect? Note that even if two plots indicate linearity, it is not necessary their gradients are the same :p\n",
        "\n",
        "<span style=\"color: green\">\n",
        "    Number of heads has the least affect on the number of parameters since its aggregated at the end. Embedding Dimensions have the greatest affect on number of parameters. Its an exponential function which grows substantially on the increase of embedding dimentions\n",
        "        \n",
        "</span>"
      ]
    },
    {
      "cell_type": "markdown",
      "metadata": {
        "id": "xyVjPC0S56Mp"
      },
      "source": [
        "# Fin."
      ]
    }
  ],
  "metadata": {
    "accelerator": "GPU",
    "colab": {
      "gpuType": "T4",
      "provenance": []
    },
    "kernelspec": {
      "display_name": "Python 3",
      "name": "python3"
    },
    "language_info": {
      "codemirror_mode": {
        "name": "ipython",
        "version": 3
      },
      "file_extension": ".py",
      "mimetype": "text/x-python",
      "name": "python",
      "nbconvert_exporter": "python",
      "pygments_lexer": "ipython3",
      "version": "3.11.4"
    },
    "orig_nbformat": 4
  },
  "nbformat": 4,
  "nbformat_minor": 0
}
